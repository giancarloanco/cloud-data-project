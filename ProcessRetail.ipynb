{
	"metadata": {
		"kernelspec": {
			"name": "glue_pyspark",
			"display_name": "Glue PySpark",
			"language": "python"
		},
		"language_info": {
			"name": "Python_Glue_Session",
			"mimetype": "text/x-python",
			"codemirror_mode": {
				"name": "python",
				"version": 3
			},
			"pygments_lexer": "python3",
			"file_extension": ".py"
		}
	},
	"nbformat_minor": 4,
	"nbformat": 4,
	"cells": [
		{
			"cell_type": "code",
			"source": "%idle_timeout 2880\n%glue_version 4.0\n%worker_type G.1X\n%number_of_workers 5\n\nimport sys\nfrom awsglue.transforms import *\nfrom awsglue.utils import getResolvedOptions\nfrom pyspark.context import SparkContext\nfrom awsglue.context import GlueContext\nfrom awsglue.job import Job\n  \nsc = SparkContext.getOrCreate()\nglueContext = GlueContext(sc)\nspark = glueContext.spark_session\njob = Job(glueContext)",
			"metadata": {
				"trusted": true,
				"editable": true
			},
			"execution_count": 1,
			"outputs": [
				{
					"name": "stdout",
					"text": "Welcome to the Glue Interactive Sessions Kernel\nFor more information on available magic commands, please type %help in any new cell.\n\nPlease view our Getting Started page to access the most up-to-date information on the Interactive Sessions kernel: https://docs.aws.amazon.com/glue/latest/dg/interactive-sessions.html\nInstalled kernel version: 1.0.7 \nCurrent idle_timeout is None minutes.\nidle_timeout has been set to 2880 minutes.\nSetting Glue version to: 4.0\nPrevious worker type: None\nSetting new worker type to: G.1X\nPrevious number of workers: None\nSetting new number of workers to: 5\nTrying to create a Glue session for the kernel.\nSession Type: glueetl\nWorker Type: G.1X\nNumber of Workers: 5\nIdle Timeout: 2880\nSession ID: 7b686a7d-cb21-46f2-8961-e624eee5cf4f\nApplying the following default arguments:\n--glue_kernel_version 1.0.7\n--enable-glue-datacatalog true\nWaiting for session 7b686a7d-cb21-46f2-8961-e624eee5cf4f to get into ready status...\nSession 7b686a7d-cb21-46f2-8961-e624eee5cf4f has been created.\n\n",
					"output_type": "stream"
				}
			]
		},
		{
			"cell_type": "code",
			"source": "YEAR = \"2021\"\nMONTH = \"12\"",
			"metadata": {
				"trusted": true,
				"tags": []
			},
			"execution_count": 24,
			"outputs": [
				{
					"name": "stdout",
					"text": "\n",
					"output_type": "stream"
				}
			]
		},
		{
			"cell_type": "code",
			"source": "df = spark.read.parquet(f\"s3://finalproject-9458/data/specific/{YEAR}-{MONTH}\")",
			"metadata": {
				"trusted": true,
				"tags": []
			},
			"execution_count": 25,
			"outputs": [
				{
					"name": "stdout",
					"text": "\n",
					"output_type": "stream"
				}
			]
		},
		{
			"cell_type": "code",
			"source": "df.show(5)",
			"metadata": {
				"trusted": true,
				"tags": []
			},
			"execution_count": 26,
			"outputs": [
				{
					"name": "stdout",
					"text": "+-----+---------+---------+--------------------+--------+---------+----------+--------------+------------+----------+---+\n|index|InvoiceNo|StockCode|         Description|Quantity|UnitPrice|CustomerID|       Country|invoice_date|      date|day|\n+-----+---------+---------+--------------------+--------+---------+----------+--------------+------------+----------+---+\n|10144|   537226|    22811|SET OF 6 T-LIGHTS...|       6|        3|      null|United Kingdom|  2021-12-06|2021-12-06|  6|\n|10145|   537226|    21713|CITRONELLA CANDLE...|       8|        2|      null|United Kingdom|  2021-12-06|2021-12-06|  6|\n|10146|   537226|    22927|GREEN GIANT GARDE...|       2|        6|      null|United Kingdom|  2021-12-06|2021-12-06|  6|\n|10147|   537226|    20802|SMALL GLASS SUNDA...|       6|        2|      null|United Kingdom|  2021-12-06|2021-12-06|  6|\n|10148|   537226|    22052|VINTAGE CARAVAN G...|      25|        0|      null|United Kingdom|  2021-12-06|2021-12-06|  6|\n+-----+---------+---------+--------------------+--------+---------+----------+--------------+------------+----------+---+\nonly showing top 5 rows\n",
					"output_type": "stream"
				}
			]
		},
		{
			"cell_type": "code",
			"source": "df.groupby(\"day\").count().show()",
			"metadata": {
				"trusted": true,
				"tags": []
			},
			"execution_count": 27,
			"outputs": [
				{
					"name": "stdout",
					"text": "+---+-----+\n|day|count|\n+---+-----+\n|  1| 3108|\n|  6| 3878|\n| 17| 3115|\n| 16| 1790|\n| 20| 1763|\n| 21| 1586|\n| 10| 2758|\n|  9| 2891|\n|  7| 2963|\n|  3| 2202|\n|  2| 2109|\n| 14| 2087|\n|  5| 2725|\n| 13| 2283|\n|  8| 2647|\n| 22|  291|\n| 19|  522|\n| 12| 1451|\n| 23|  963|\n| 15| 1349|\n+---+-----+\n",
					"output_type": "stream"
				}
			]
		},
		{
			"cell_type": "code",
			"source": "df = df.filter((df[\"Quantity\"] > 0) & (df[\"UnitPrice\"] > 0))",
			"metadata": {
				"trusted": true,
				"tags": []
			},
			"execution_count": 28,
			"outputs": [
				{
					"name": "stdout",
					"text": "\n",
					"output_type": "stream"
				}
			]
		},
		{
			"cell_type": "code",
			"source": "total_product_rdd = df.rdd.map(lambda row: (row.StockCode, (row.Quantity, row.Quantity * row.UnitPrice)))",
			"metadata": {
				"trusted": true,
				"tags": []
			},
			"execution_count": 29,
			"outputs": [
				{
					"name": "stdout",
					"text": "\n",
					"output_type": "stream"
				}
			]
		},
		{
			"cell_type": "code",
			"source": "total_product_rdd = total_product_rdd.reduceByKey(lambda x, y: (x[0] + y[0], x[1] + y[1]))\ndf_total_product = spark.createDataFrame(total_product_rdd.map(lambda x: (x[0], x[1][0], x[1][1])), schema=[\"ProductStockCode\", \"TotalQuantity\", \"TotalAmount\"])",
			"metadata": {
				"trusted": true,
				"tags": []
			},
			"execution_count": 30,
			"outputs": [
				{
					"name": "stdout",
					"text": "\n",
					"output_type": "stream"
				}
			]
		},
		{
			"cell_type": "code",
			"source": "df_total_product.show()",
			"metadata": {
				"trusted": true,
				"tags": []
			},
			"execution_count": 31,
			"outputs": [
				{
					"name": "stdout",
					"text": "+----------------+-------------+--------------------+\n|ProductStockCode|TotalQuantity|         TotalAmount|\n+----------------+-------------+--------------------+\n|           22111|          958|5234.000000000000...|\n|           22445|          119|369.0000000000000...|\n|           82486|          230|1758.000000000000...|\n|           22569|          286|1168.000000000000...|\n|           21080|          856|980.0000000000000...|\n|           22837|         1085|5286.000000000000...|\n|           21479|         1407|7934.000000000000...|\n|           22283|           30|344.0000000000000...|\n|          84997C|          183|676.0000000000000...|\n|           20681|           45|171.0000000000000...|\n|           22149|          337|909.0000000000000...|\n|           22751|          127|480.0000000000000...|\n|           84992|          749|749.0000000000000...|\n|           22834|         3502|4955.000000000000...|\n|           22654|          324|2904.000000000000...|\n|           22594|          265|346.0000000000000...|\n|           21843|          200|2152.000000000000...|\n|           22198|          854|1546.000000000000...|\n|           22966|          644|686.0000000000000...|\n|           21865|           30|78.00000000000000...|\n+----------------+-------------+--------------------+\nonly showing top 20 rows\n",
					"output_type": "stream"
				}
			]
		},
		{
			"cell_type": "code",
			"source": "df_total_product.coalesce(1).write.mode(\"overwrite\").csv(f\"s3://finalproject-9458/data/reporting/{YEAR}-{MONTH}/total_per_product/\")",
			"metadata": {
				"trusted": true,
				"tags": []
			},
			"execution_count": 35,
			"outputs": [
				{
					"name": "stdout",
					"text": "\n",
					"output_type": "stream"
				}
			]
		},
		{
			"cell_type": "code",
			"source": "df.coalesce(1).write.mode(\"overwrite\").csv(f\"s3://finalproject-9458/data/reporting/{YEAR}-{MONTH}/general/\")",
			"metadata": {
				"trusted": true,
				"tags": []
			},
			"execution_count": null,
			"outputs": []
		},
		{
			"cell_type": "code",
			"source": "",
			"metadata": {},
			"execution_count": null,
			"outputs": []
		}
	]
}